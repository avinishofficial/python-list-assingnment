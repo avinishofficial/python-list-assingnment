{
 "cells": [
  {
   "cell_type": "code",
   "execution_count": 1,
   "id": "f09d4b93-1c3c-4b10-8b6c-4ad42f2beda8",
   "metadata": {},
   "outputs": [
    {
     "name": "stdout",
     "output_type": "stream",
     "text": [
      "[]\n",
      "[]\n",
      "[]\n",
      "0\n",
      "[]\n"
     ]
    }
   ],
   "source": [
    "my_list = list()\n",
    "print(my_list)  # Output: []\n",
    "\n",
    "my_list = []\n",
    "print(my_list)  # Output: []\n",
    "\n",
    "my_list = list([])\n",
    "print(my_list)  # Output: []\n",
    "\n",
    "my_list = []\n",
    "print(len(my_list))  # Output: 0\n",
    "\n",
    "my_list = [None] * 0\n",
    "print(my_list)  # Output: []"
   ]
  },
  {
   "cell_type": "code",
   "execution_count": 2,
   "id": "70c48b7f-d915-4a40-9cc6-885d4daf8df3",
   "metadata": {},
   "outputs": [
    {
     "name": "stdout",
     "output_type": "stream",
     "text": [
      "Original list: [1, 2, 3]\n",
      "Updated list: [1, 2, 3, 4]\n",
      "[1, 2, 3, 4, 5, 6]\n",
      "[1, 2, 3, 4]\n"
     ]
    }
   ],
   "source": [
    "# Create a list\n",
    "my_list = [1, 2, 3]\n",
    "\n",
    "# Print the original list\n",
    "print(\"Original list:\", my_list)  # Output: [1, 2, 3]\n",
    "\n",
    "# Add an element to the end of the list using the append() method\n",
    "my_list.append(4)\n",
    "\n",
    "# Print the updated list\n",
    "print(\"Updated list:\", my_list)  # Output: [1, 2, 3, 4]\n",
    "\n",
    "\n",
    "\n",
    "\n",
    "\n",
    "my_list = [1, 2, 3]\n",
    "my_list.extend([4, 5, 6])\n",
    "print(my_list)  # Output: [1, 2, 3, 4, 5, 6]\n",
    "\n",
    "\n",
    "\n",
    "my_list = [1, 2, 3]\n",
    "my_list = my_list + [4]\n",
    "print(my_list)  # Output: [1, 2, 3, 4]"
   ]
  },
  {
   "cell_type": "code",
   "execution_count": 3,
   "id": "d06c1b4f-f8dc-4b7f-bb50-047d8267c719",
   "metadata": {},
   "outputs": [
    {
     "name": "stdout",
     "output_type": "stream",
     "text": [
      "4\n"
     ]
    }
   ],
   "source": [
    "my_list = [1, 2, 3, 4]\n",
    "print(my_list[-1])  # Output: 4"
   ]
  },
  {
   "cell_type": "code",
   "execution_count": 4,
   "id": "9e444edd-02e7-442b-b030-59520abd4c1c",
   "metadata": {},
   "outputs": [
    {
     "name": "stdout",
     "output_type": "stream",
     "text": [
      "[4, 3, 2, 1]\n"
     ]
    }
   ],
   "source": [
    "my_list = [1, 2, 3, 4]\n",
    "my_list = my_list[::-1]\n",
    "print(my_list)  # Output: [4, 3, 2, 1]"
   ]
  },
  {
   "cell_type": "code",
   "execution_count": 5,
   "id": "0f542e56-d080-4d14-be30-25c2a361a266",
   "metadata": {},
   "outputs": [
    {
     "name": "stdout",
     "output_type": "stream",
     "text": [
      "[1, 2, 3, 4]\n",
      "[1, 2, 3, 4]\n"
     ]
    }
   ],
   "source": [
    "my_list = [4, 3, 2, 1]\n",
    "my_list.sort()\n",
    "print(my_list)  # Output: [1, 2, 3, 4]\n",
    "\n",
    "\n",
    "\n",
    "\n",
    "my_list = [4, 3, 2, 1]\n",
    "sorted_list = sorted(my_list)\n",
    "print(sorted_list)  # Output: [1, 2, 3, 4]"
   ]
  },
  {
   "cell_type": "code",
   "execution_count": 6,
   "id": "dc32929f-8a90-4571-b2e5-cc9ebda630d4",
   "metadata": {},
   "outputs": [
    {
     "name": "stdout",
     "output_type": "stream",
     "text": [
      "The Godfather\n"
     ]
    }
   ],
   "source": [
    "favorite_movies = [\"The Shawshank Redemption\", \"The Godfather\", \"The Dark Knight\"]\n",
    "print(favorite_movies[1])  # Output: The Godfather"
   ]
  },
  {
   "cell_type": "code",
   "execution_count": 7,
   "id": "cd9a5fb0-bc7b-4f5a-8eef-d8d00f68742f",
   "metadata": {},
   "outputs": [
    {
     "name": "stdout",
     "output_type": "stream",
     "text": [
      "['Lion', 'Elephant', 'Giraffe', 'Kangaroo']\n",
      "['Lion', 'Kangaroo', 'Elephant', 'Giraffe']\n"
     ]
    }
   ],
   "source": [
    "favorite_animals = [\"Lion\", \"Elephant\", \"Giraffe\"]\n",
    "favorite_animals.append(\"Kangaroo\")\n",
    "print(favorite_animals)  # Output: [\"Lion\", \"Elephant\", \"Giraffe\", \"Kangaroo\"]\n",
    "\n",
    "\n",
    "\n",
    "favorite_animals = [\"Lion\", \"Elephant\", \"Giraffe\"]\n",
    "favorite_animals.insert(1, \"Kangaroo\")\n",
    "print(favorite_animals)  # Output: [\"Lion\", \"Kangaroo\", \"Elephant\", \"Giraffe\"]"
   ]
  },
  {
   "cell_type": "code",
   "execution_count": 8,
   "id": "50f8bda2-1b7b-488a-850b-87f75c29e48d",
   "metadata": {},
   "outputs": [
    {
     "name": "stdout",
     "output_type": "stream",
     "text": [
      "The city 'Tokyo' is at position 2 in the list.\n"
     ]
    }
   ],
   "source": [
    "favorite_cities = [\"New York\", \"Paris\", \"Tokyo\", \"Rome\", \"London\"]\n",
    "city_to_find = \"Tokyo\"\n",
    "city_index = favorite_cities.index(city_to_find)\n",
    "print(f\"The city '{city_to_find}' is at position {city_index} in the list.\") \n",
    "# Output: The city 'Tokyo' is at position 2 in the list."
   ]
  },
  {
   "cell_type": "code",
   "execution_count": null,
   "id": "d4a713e7-8773-4915-8cb2-7862bd2f31a0",
   "metadata": {},
   "outputs": [],
   "source": []
  }
 ],
 "metadata": {
  "kernelspec": {
   "display_name": "Python 3 (ipykernel)",
   "language": "python",
   "name": "python3"
  },
  "language_info": {
   "codemirror_mode": {
    "name": "ipython",
    "version": 3
   },
   "file_extension": ".py",
   "mimetype": "text/x-python",
   "name": "python",
   "nbconvert_exporter": "python",
   "pygments_lexer": "ipython3",
   "version": "3.10.8"
  }
 },
 "nbformat": 4,
 "nbformat_minor": 5
}
